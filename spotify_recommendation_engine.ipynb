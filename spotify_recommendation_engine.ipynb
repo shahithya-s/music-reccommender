{
 "cells": [
  {
   "cell_type": "code",
   "execution_count": 173,
   "metadata": {},
   "outputs": [],
   "source": [
    "import pandas as pd\n",
    "import numpy as np\n",
    "from sklearn.preprocessing import StandardScaler\n",
    "from sklearn.neighbors import NearestNeighbors"
   ]
  },
  {
   "cell_type": "code",
   "execution_count": 174,
   "metadata": {},
   "outputs": [],
   "source": [
    "# Load the dataset\n",
    "df = pd.read_csv('tracks.csv')"
   ]
  },
  {
   "cell_type": "markdown",
   "metadata": {},
   "source": [
    "### Data Preprocessing"
   ]
  },
  {
   "cell_type": "code",
   "execution_count": 175,
   "metadata": {},
   "outputs": [],
   "source": [
    "# Convert the release_date to its respective \"era\"\n",
    "df['era'] = (df['release_date'].str.split('-').str[0].astype(int) // 10) * 10"
   ]
  },
  {
   "cell_type": "code",
   "execution_count": 176,
   "metadata": {},
   "outputs": [],
   "source": [
    "# Standardize numerical features\n",
    "numerical_features = ['popularity', 'duration_ms', 'danceability', 'energy', 'key', 'loudness', 'speechiness', 'acousticness', 'instrumentalness', 'liveness', 'tempo']\n",
    "scaler = StandardScaler()\n",
    "df[numerical_features] = scaler.fit_transform(df[numerical_features])"
   ]
  },
  {
   "cell_type": "code",
   "execution_count": 177,
   "metadata": {},
   "outputs": [],
   "source": [
    "# Remove unnecessary columns\n",
    "columns_to_drop = ['explicit', 'mode', 'valence', 'id_artists', 'release_date', 'time_signature']\n",
    "df.drop(columns=columns_to_drop, inplace=True)"
   ]
  },
  {
   "cell_type": "code",
   "execution_count": 178,
   "metadata": {},
   "outputs": [],
   "source": [
    "# Remove duplicates\n",
    "df.drop_duplicates(subset=df.columns.difference(['id', 'popularity']), keep='first', inplace=True)"
   ]
  },
  {
   "cell_type": "code",
   "execution_count": 179,
   "metadata": {},
   "outputs": [
    {
     "data": {
      "text/html": [
       "<div>\n",
       "<style scoped>\n",
       "    .dataframe tbody tr th:only-of-type {\n",
       "        vertical-align: middle;\n",
       "    }\n",
       "\n",
       "    .dataframe tbody tr th {\n",
       "        vertical-align: top;\n",
       "    }\n",
       "\n",
       "    .dataframe thead th {\n",
       "        text-align: right;\n",
       "    }\n",
       "</style>\n",
       "<table border=\"1\" class=\"dataframe\">\n",
       "  <thead>\n",
       "    <tr style=\"text-align: right;\">\n",
       "      <th></th>\n",
       "      <th>id</th>\n",
       "      <th>name</th>\n",
       "      <th>popularity</th>\n",
       "      <th>duration_ms</th>\n",
       "      <th>artists</th>\n",
       "      <th>danceability</th>\n",
       "      <th>energy</th>\n",
       "      <th>key</th>\n",
       "      <th>loudness</th>\n",
       "      <th>speechiness</th>\n",
       "      <th>acousticness</th>\n",
       "      <th>instrumentalness</th>\n",
       "      <th>liveness</th>\n",
       "      <th>tempo</th>\n",
       "      <th>era</th>\n",
       "    </tr>\n",
       "  </thead>\n",
       "  <tbody>\n",
       "    <tr>\n",
       "      <th>0</th>\n",
       "      <td>35iwgR4jXetI318WEWsa1Q</td>\n",
       "      <td>Carve</td>\n",
       "      <td>-1.174160</td>\n",
       "      <td>-0.815233</td>\n",
       "      <td>['Uli']</td>\n",
       "      <td>0.490096</td>\n",
       "      <td>-0.385182</td>\n",
       "      <td>-1.483654</td>\n",
       "      <td>-0.615393</td>\n",
       "      <td>1.924128</td>\n",
       "      <td>0.642528</td>\n",
       "      <td>2.362779</td>\n",
       "      <td>-0.341434</td>\n",
       "      <td>-0.457392</td>\n",
       "      <td>1920</td>\n",
       "    </tr>\n",
       "    <tr>\n",
       "      <th>1</th>\n",
       "      <td>021ht4sdgPcrDgSk7JTbKY</td>\n",
       "      <td>Capítulo 2.16 - Banquero Anarquista</td>\n",
       "      <td>-1.500768</td>\n",
       "      <td>-1.042088</td>\n",
       "      <td>['Fernando Pessoa']</td>\n",
       "      <td>0.791115</td>\n",
       "      <td>-1.107625</td>\n",
       "      <td>-1.483654</td>\n",
       "      <td>-2.344110</td>\n",
       "      <td>4.736917</td>\n",
       "      <td>0.995129</td>\n",
       "      <td>-0.425120</td>\n",
       "      <td>-0.357710</td>\n",
       "      <td>-0.552876</td>\n",
       "      <td>1920</td>\n",
       "    </tr>\n",
       "    <tr>\n",
       "      <th>2</th>\n",
       "      <td>07A5yehtSnoedViJAZkNnc</td>\n",
       "      <td>Vivo para Quererte - Remasterizado</td>\n",
       "      <td>-1.500768</td>\n",
       "      <td>-0.382618</td>\n",
       "      <td>['Ignacio Corsini']</td>\n",
       "      <td>-0.780204</td>\n",
       "      <td>-1.449000</td>\n",
       "      <td>-1.199517</td>\n",
       "      <td>-2.156266</td>\n",
       "      <td>-0.298309</td>\n",
       "      <td>1.559864</td>\n",
       "      <td>-0.343432</td>\n",
       "      <td>-0.010498</td>\n",
       "      <td>0.401596</td>\n",
       "      <td>1920</td>\n",
       "    </tr>\n",
       "    <tr>\n",
       "      <th>3</th>\n",
       "      <td>08FmqUhxtyLTn6pAh6bk45</td>\n",
       "      <td>El Prisionero - Remasterizado</td>\n",
       "      <td>-1.500768</td>\n",
       "      <td>-0.420026</td>\n",
       "      <td>['Ignacio Corsini']</td>\n",
       "      <td>-1.460507</td>\n",
       "      <td>-1.776084</td>\n",
       "      <td>0.505310</td>\n",
       "      <td>-3.488663</td>\n",
       "      <td>-0.302756</td>\n",
       "      <td>1.562730</td>\n",
       "      <td>3.014787</td>\n",
       "      <td>-0.596418</td>\n",
       "      <td>1.730782</td>\n",
       "      <td>1920</td>\n",
       "    </tr>\n",
       "    <tr>\n",
       "      <th>4</th>\n",
       "      <td>08y9GfoqCWfOGsKdwojr5e</td>\n",
       "      <td>Lady of the Evening</td>\n",
       "      <td>-1.500768</td>\n",
       "      <td>-0.529308</td>\n",
       "      <td>['Dick Haymes']</td>\n",
       "      <td>-0.972856</td>\n",
       "      <td>-1.524420</td>\n",
       "      <td>-0.631241</td>\n",
       "      <td>-1.315289</td>\n",
       "      <td>-0.366127</td>\n",
       "      <td>1.545530</td>\n",
       "      <td>0.062013</td>\n",
       "      <td>0.526596</td>\n",
       "      <td>-0.512190</td>\n",
       "      <td>1920</td>\n",
       "    </tr>\n",
       "  </tbody>\n",
       "</table>\n",
       "</div>"
      ],
      "text/plain": [
       "                       id                                 name  popularity  \\\n",
       "0  35iwgR4jXetI318WEWsa1Q                                Carve   -1.174160   \n",
       "1  021ht4sdgPcrDgSk7JTbKY  Capítulo 2.16 - Banquero Anarquista   -1.500768   \n",
       "2  07A5yehtSnoedViJAZkNnc   Vivo para Quererte - Remasterizado   -1.500768   \n",
       "3  08FmqUhxtyLTn6pAh6bk45        El Prisionero - Remasterizado   -1.500768   \n",
       "4  08y9GfoqCWfOGsKdwojr5e                  Lady of the Evening   -1.500768   \n",
       "\n",
       "   duration_ms              artists  danceability    energy       key  \\\n",
       "0    -0.815233              ['Uli']      0.490096 -0.385182 -1.483654   \n",
       "1    -1.042088  ['Fernando Pessoa']      0.791115 -1.107625 -1.483654   \n",
       "2    -0.382618  ['Ignacio Corsini']     -0.780204 -1.449000 -1.199517   \n",
       "3    -0.420026  ['Ignacio Corsini']     -1.460507 -1.776084  0.505310   \n",
       "4    -0.529308      ['Dick Haymes']     -0.972856 -1.524420 -0.631241   \n",
       "\n",
       "   loudness  speechiness  acousticness  instrumentalness  liveness     tempo  \\\n",
       "0 -0.615393     1.924128      0.642528          2.362779 -0.341434 -0.457392   \n",
       "1 -2.344110     4.736917      0.995129         -0.425120 -0.357710 -0.552876   \n",
       "2 -2.156266    -0.298309      1.559864         -0.343432 -0.010498  0.401596   \n",
       "3 -3.488663    -0.302756      1.562730          3.014787 -0.596418  1.730782   \n",
       "4 -1.315289    -0.366127      1.545530          0.062013  0.526596 -0.512190   \n",
       "\n",
       "    era  \n",
       "0  1920  \n",
       "1  1920  \n",
       "2  1920  \n",
       "3  1920  \n",
       "4  1920  "
      ]
     },
     "execution_count": 179,
     "metadata": {},
     "output_type": "execute_result"
    }
   ],
   "source": [
    "df.head()"
   ]
  },
  {
   "cell_type": "code",
   "execution_count": 180,
   "metadata": {},
   "outputs": [],
   "source": [
    "# Define the X column required for recomnnedation and normalize features\n",
    "features = ['danceability', 'energy', 'key', 'loudness', 'speechiness', 'acousticness', 'instrumentalness', 'liveness', 'tempo', 'era', 'popularity']\n",
    "feature_weights = [8, 4, 2, 8, 3, 7, 7, 2, 8, 10, 7]\n",
    "normalized_weights = [weight / sum(feature_weights) for weight in feature_weights]\n",
    "\n",
    "X = df[features]\n",
    "X_weighted = X * normalized_weights"
   ]
  },
  {
   "cell_type": "code",
   "execution_count": 181,
   "metadata": {},
   "outputs": [],
   "source": [
    "# Initialize the Nearest Neighbors Model\n",
    "nn_model = NearestNeighbors(n_neighbors=11, algorithm='brute', metric='cosine')\n",
    "nn_model.fit(X_weighted)\n",
    "\n",
    "# Define a function to get music recommendations for a given song ID\n",
    "def get_recommendations(song_id):\n",
    "    # Look up the features of the given song based on its ID\n",
    "    song_features = df.loc[df['id'] == song_id, features].values\n",
    "\n",
    "    if len(song_features) == 0:\n",
    "        return None  # Return None if the song ID is not found in the dataset\n",
    "\n",
    "    # Apply the weights to the input features\n",
    "    song_features_weighted = song_features * normalized_weights\n",
    "\n",
    "    distances, indices = nn_model.kneighbors(song_features_weighted, 10)\n",
    "\n",
    "    if len(indices) == 0:\n",
    "        return None  # Return None if no neighbors were found\n",
    "\n",
    "    # Extract the recommended song indices\n",
    "    recommended_songs = df.iloc[indices[0]]\n",
    "    return recommended_songs"
   ]
  },
  {
   "cell_type": "code",
   "execution_count": 183,
   "metadata": {},
   "outputs": [],
   "source": [
    "song_id = '7lPN2DXiMsVn7XUKtOW1CS'\n",
    "recommendations = get_recommendations(song_id)\n",
    "recommendations.to_csv('recommendations.csv', index=False)"
   ]
  }
 ],
 "metadata": {
  "kernelspec": {
   "display_name": "spotify_rec",
   "language": "python",
   "name": "python3"
  },
  "language_info": {
   "codemirror_mode": {
    "name": "ipython",
    "version": 3
   },
   "file_extension": ".py",
   "mimetype": "text/x-python",
   "name": "python",
   "nbconvert_exporter": "python",
   "pygments_lexer": "ipython3",
   "version": "3.12.0"
  }
 },
 "nbformat": 4,
 "nbformat_minor": 2
}
